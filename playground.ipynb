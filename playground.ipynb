{
 "cells": [
  {
   "cell_type": "code",
   "execution_count": 25,
   "metadata": {},
   "outputs": [],
   "source": [
    "from langchain.llms import OpenAI\n",
    "from langchain.chains import LLMChain, TransformChain\n",
    "from langchain.prompts import PromptTemplate\n",
    "from butler.utils import get_columns_from_text, get_properties_from_details\n",
    "from butler.strings import DATABASE_BASIC_PROPERTIES\n",
    "from langchain.chains import SimpleSequentialChain, SequentialChain\n",
    "\n",
    "llm = OpenAI(temperature=0.7, openai_api_key=\"OPENAI_API_KEY\")"
   ]
  },
  {
   "cell_type": "code",
   "execution_count": 26,
   "metadata": {},
   "outputs": [],
   "source": [
    "propertyNotation = {\n",
    "    \"title\": \"title\",\n",
    "    \"text\": \"rich_text\",\n",
    "    \"number\": \"number\",\n",
    "    \"select\": \"select\",\n",
    "    \"multi-select\": \"multi_select\",\n",
    "    \"status\": \"status\",\n",
    "    \"date\": \"date\",\n",
    "    \"person\": \"people\",\n",
    "    \"files & media\": \"files\",\n",
    "    \"checkbox\": \"checkbox\",\n",
    "    \"url\": \"url\",\n",
    "    \"email\": \"email\",\n",
    "    \"phone\": \"phone_number\",\n",
    "}"
   ]
  },
  {
   "cell_type": "code",
   "execution_count": 28,
   "metadata": {},
   "outputs": [],
   "source": [
    "template = \"\"\"{statement}\n",
    "\n",
    "For the above statement, what database columns should I use. Start with a suitable column. (enumerate with numbers)\n",
    "\"\"\"\n",
    "prompt_template = PromptTemplate(input_variables=[\"statement\"], template=template)\n",
    "properties_chain = LLMChain(llm=llm, output_key=\"result\", prompt=prompt_template)"
   ]
  },
  {
   "cell_type": "code",
   "execution_count": 29,
   "metadata": {},
   "outputs": [],
   "source": [
    "def transform_func(inputs: dict) -> dict:\n",
    "    columns = get_columns_from_text(inputs[\"result\"])\n",
    "    first_column = columns[0]\n",
    "    return {\"Title\": first_column}"
   ]
  },
  {
   "cell_type": "code",
   "execution_count": 30,
   "metadata": {},
   "outputs": [],
   "source": [
    "transform_chain = TransformChain(input_variables=[\"result\"], output_variables=[\"Title\"], transform=transform_func)"
   ]
  },
  {
   "cell_type": "code",
   "execution_count": 5,
   "metadata": {},
   "outputs": [
    {
     "data": {
      "text/plain": [
       "'Goal Name'"
      ]
     },
     "execution_count": 5,
     "metadata": {},
     "output_type": "execute_result"
    }
   ],
   "source": [
    "database_properties[0]"
   ]
  },
  {
   "cell_type": "code",
   "execution_count": 31,
   "metadata": {},
   "outputs": [],
   "source": [
    "types = \"Title, Text, Number, Select, Multi-select, Status, Date, Person, Files & media, Checkbox, URL, Email, Phone\""
   ]
  },
  {
   "cell_type": "code",
   "execution_count": 32,
   "metadata": {},
   "outputs": [],
   "source": [
    "template = \"\"\"\n",
    "{result}\n",
    "\n",
    "What are the type for the following properties from the given available types: {types} (one has to be Title)\n",
    "\n",
    "1. {Title}:\"\"\""
   ]
  },
  {
   "cell_type": "code",
   "execution_count": 33,
   "metadata": {},
   "outputs": [],
   "source": [
    "prompt_template = PromptTemplate(\n",
    "    input_variables=[\"types\", \"result\", \"Title\"], template=template\n",
    ")"
   ]
  },
  {
   "cell_type": "code",
   "execution_count": 34,
   "metadata": {},
   "outputs": [],
   "source": [
    "property_type_chain = LLMChain(llm=llm, prompt=prompt_template, output_key='type_dict')"
   ]
  },
  {
   "cell_type": "code",
   "execution_count": 37,
   "metadata": {},
   "outputs": [
    {
     "name": "stdout",
     "output_type": "stream",
     "text": [
      "\n",
      "\n",
      "\u001b[1m> Entering new SequentialChain chain...\u001b[0m\n",
      "\u001b[1mChain 0\u001b[0m:\n",
      "{'result': '\\n1. Goal ID \\n2. Goal Description \\n3. Goal Deadline \\n4. Status \\n5. Notes'}\n",
      "\n",
      "\u001b[1mChain 1\u001b[0m:\n",
      "{'Title': 'Goal ID'}\n",
      "\n",
      "\u001b[1mChain 2\u001b[0m:\n",
      "{'review': ' Number\\n2. Goal Description: Text\\n3. Goal Deadline: Date\\n4. Status: Select\\n5. Notes: Text'}\n",
      "\n",
      "\n",
      "\u001b[1m> Finished chain.\u001b[0m\n"
     ]
    }
   ],
   "source": [
    "overall_chain = SequentialChain(chains=[properties_chain, transform_chain, property_type_chain], input_variables=['statement', \"types\"], output_variables=['result', 'Title', 'type_dict'], verbose=True)\n",
    "\n",
    "overall = overall_chain(\n",
    "    {\n",
    "        'statement':  \"I need to create a 2023 goal tracker table. I need to have a status column please\",\n",
    "        'types': types\n",
    "    }\n",
    ")"
   ]
  },
  {
   "cell_type": "code",
   "execution_count": 38,
   "metadata": {},
   "outputs": [
    {
     "data": {
      "text/plain": [
       "{'statement': 'I need to create a 2023 goal tracker table. I need to have a status column please',\n",
       " 'types': 'Title, Text, Number, Select, Multi-select, Status, Date, Person, Files & media, Checkbox, URL, Email, Phone',\n",
       " 'result': '\\n1. Goal ID \\n2. Goal Description \\n3. Goal Deadline \\n4. Status \\n5. Notes',\n",
       " 'Title': 'Goal ID',\n",
       " 'review': ' Number\\n2. Goal Description: Text\\n3. Goal Deadline: Date\\n4. Status: Select\\n5. Notes: Text'}"
      ]
     },
     "execution_count": 38,
     "metadata": {},
     "output_type": "execute_result"
    }
   ],
   "source": [
    "overall"
   ]
  },
  {
   "cell_type": "code",
   "execution_count": 46,
   "metadata": {},
   "outputs": [],
   "source": [
    "database_types_string = property_type_chain.run(\n",
    "   { \"Title\": \"Goal\",\n",
    "    \"types\": types,\n",
    "    \"result\": database_properties_string}\n",
    ")"
   ]
  },
  {
   "cell_type": "code",
   "execution_count": 47,
   "metadata": {},
   "outputs": [
    {
     "name": "stdout",
     "output_type": "stream",
     "text": [
      " Title\n",
      "2. Goal Description: Text\n",
      "3. Start Date: Date\n",
      "4. End Date: Date\n",
      "5. Progress Percentage: Number\n",
      "6. Tasks: Multi-select\n",
      "7. Notes: Text\n",
      "8. Status: Select\n"
     ]
    }
   ],
   "source": [
    "print(database_types_string)"
   ]
  },
  {
   "cell_type": "code",
   "execution_count": 48,
   "metadata": {},
   "outputs": [
    {
     "data": {
      "text/plain": [
       "['Goal Description: Text',\n",
       " 'Start Date: Date',\n",
       " 'End Date: Date',\n",
       " 'Progress Percentage: Number',\n",
       " 'Tasks: Multi-select',\n",
       " 'Notes: Text',\n",
       " 'Status: Select']"
      ]
     },
     "execution_count": 48,
     "metadata": {},
     "output_type": "execute_result"
    }
   ],
   "source": [
    "get_columns_from_text(database_types_string)"
   ]
  },
  {
   "cell_type": "code",
   "execution_count": 37,
   "metadata": {},
   "outputs": [],
   "source": [
    "\n",
    "result_types = list(map(lambda x: x.split(\":\")[1].strip(), get_columns_from_text(database_types_string)))\n",
    "# result_types.insert(0, \"Title\")"
   ]
  },
  {
   "cell_type": "code",
   "execution_count": 40,
   "metadata": {},
   "outputs": [
    {
     "data": {
      "text/plain": [
       "['', '', '', '', '', '', '']"
      ]
     },
     "execution_count": 40,
     "metadata": {},
     "output_type": "execute_result"
    }
   ],
   "source": [
    "result_types"
   ]
  },
  {
   "cell_type": "code",
   "execution_count": 38,
   "metadata": {},
   "outputs": [],
   "source": [
    "database_properties = get_columns_from_text(database_properties_string)"
   ]
  },
  {
   "cell_type": "code",
   "execution_count": 39,
   "metadata": {},
   "outputs": [
    {
     "data": {
      "text/plain": [
       "['Status Column',\n",
       " 'Goal Name',\n",
       " 'Goal Description',\n",
       " 'Start Date',\n",
       " 'End Date',\n",
       " 'Progress Percentage',\n",
       " 'Tasks',\n",
       " 'Notes']"
      ]
     },
     "execution_count": 39,
     "metadata": {},
     "output_type": "execute_result"
    }
   ],
   "source": [
    "database_properties"
   ]
  },
  {
   "cell_type": "code",
   "execution_count": 16,
   "metadata": {},
   "outputs": [],
   "source": [
    "tuples = zip(database_properties, result_types)"
   ]
  },
  {
   "cell_type": "code",
   "execution_count": 17,
   "metadata": {},
   "outputs": [],
   "source": [
    "tuples = list(tuples)"
   ]
  },
  {
   "cell_type": "code",
   "execution_count": 66,
   "metadata": {},
   "outputs": [
    {
     "name": "stdout",
     "output_type": "stream",
     "text": [
      "[{'name': 'Goal Name', 'type': 'Title'}, {'name': 'Goal Description', 'type': 'Text'}, {'name': 'Start Date', 'type': 'Date'}, {'name': 'End Date', 'type': 'Date'}, {'name': 'Status', 'type': 'Select'}, {'name': 'Priority', 'type': 'Select'}, {'name': 'Progress', 'type': 'Number'}, {'name': 'Notes', 'type': 'Text'}]\n"
     ]
    }
   ],
   "source": [
    "# make a list of javascript objects\n",
    "js_objects = []\n",
    "for tup in tuples:\n",
    "    js_objects.append({\"name\": tup[0], \"type\": tup[1]})\n",
    "\n",
    "print(js_objects)"
   ]
  },
  {
   "cell_type": "code",
   "execution_count": 41,
   "metadata": {},
   "outputs": [],
   "source": [
    "filtered_tuples = list(filter(lambda x: propertyNotation[x[1].lower()]  in [\"select\", \"multi_select\"], tuples))\n",
    "template = \"\"\"{result}\n",
    "\n",
    "give no more than five examples for {properties} (comma separated)\n",
    "\n",
    "{prop}:\"\"\"\n",
    "\n",
    "prompt_template = PromptTemplate(\n",
    "    input_variables=[\"result\", \"properties\", \"prop\"], template=template\n",
    ")\n",
    "\n",
    "property_type_chain = LLMChain(llm=llm, prompt=prompt_template)\n",
    "\n",
    "select_multi_select_ = list(map(lambda x: x[0], filtered_tuples))\n",
    "\n",
    "example_options_string = property_type_chain.run(\n",
    "    {\"prop\": select_multi_select_[0], \"properties\": \", \".join(select_multi_select_) , \"result\": database_properties_string}\n",
    ")"
   ]
  },
  {
   "cell_type": "code",
   "execution_count": 42,
   "metadata": {},
   "outputs": [
    {
     "data": {
      "text/plain": [
       "' Completed, In Progress, On Hold, Deferred, Cancelled \\nPriority: High, Medium, Low'"
      ]
     },
     "execution_count": 42,
     "metadata": {},
     "output_type": "execute_result"
    }
   ],
   "source": [
    "example_options_string"
   ]
  },
  {
   "cell_type": "code",
   "execution_count": 47,
   "metadata": {},
   "outputs": [
    {
     "data": {
      "text/plain": [
       "[' Completed, In Progress, On Hold, Deferred, Cancelled ',\n",
       " 'Priority: High, Medium, Low']"
      ]
     },
     "execution_count": 47,
     "metadata": {},
     "output_type": "execute_result"
    }
   ],
   "source": [
    "example_options_list = example_options_string.split(\"\\n\")\n",
    "example_options_list"
   ]
  },
  {
   "cell_type": "code",
   "execution_count": 51,
   "metadata": {},
   "outputs": [
    {
     "data": {
      "text/plain": [
       "{'Status': ['Completed',\n",
       "  ' In Progress',\n",
       "  ' On Hold',\n",
       "  ' Deferred',\n",
       "  ' Cancelled'],\n",
       " 'Priority': ['High', ' Medium', ' Low']}"
      ]
     },
     "execution_count": 51,
     "metadata": {},
     "output_type": "execute_result"
    }
   ],
   "source": [
    "options_dict = {\n",
    "    select_multi_select_[0]: example_options_list[0].strip().split(\",\"),\n",
    "}\n",
    "for i in range(1, len(example_options_list)):\n",
    "    options_dict[select_multi_select_[i]] = example_options_list[i].split(\": \")[1].split(\",\")\n",
    "options_dict"
   ]
  },
  {
   "cell_type": "code",
   "execution_count": 67,
   "metadata": {},
   "outputs": [
    {
     "data": {
      "text/plain": [
       "[{'name': 'Goal Name', 'type': 'Title'},\n",
       " {'name': 'Goal Description', 'type': 'Text'},\n",
       " {'name': 'Start Date', 'type': 'Date'},\n",
       " {'name': 'End Date', 'type': 'Date'},\n",
       " {'name': 'Status', 'type': 'Select'},\n",
       " {'name': 'Priority', 'type': 'Select'},\n",
       " {'name': 'Progress', 'type': 'Number'},\n",
       " {'name': 'Notes', 'type': 'Text'}]"
      ]
     },
     "execution_count": 67,
     "metadata": {},
     "output_type": "execute_result"
    }
   ],
   "source": [
    "js_objects"
   ]
  },
  {
   "cell_type": "code",
   "execution_count": 68,
   "metadata": {},
   "outputs": [],
   "source": [
    "# add the options to the js_objects\n",
    "import random\n",
    "\n",
    "\n",
    "for obj in js_objects:\n",
    "    if obj[\"name\"] in options_dict:\n",
    "        options_list = list(map(lambda x: {\"name\": x, \"color\": random.choice([\"default\", \"gray\", \"brown\", \"orange\", \"yellow\", \"green\", \"blue\", \"purple\", \"pink\", \"red\"])}, options_dict[obj[\"name\"]]))\n",
    "        obj[\"options\"] = options_list"
   ]
  },
  {
   "cell_type": "code",
   "execution_count": 1,
   "metadata": {},
   "outputs": [],
   "source": [
    "csv_output = \"\"\"\n",
    "Task ID|Task Description|Priority Level|Due Date|Status|Date Created|Date Completed\n",
    "T1|Write report|High|02/07/2020|Incomplete|01/01/2020|\n",
    "T2|Go to the store|Low|02/10/2020|Completed|01/02/2020|02/05/2020\n",
    "T3|Clean the house|Medium|02/15/2020|Incomplete|01/03/2020|\n",
    "T4|Complete online course|High|03/01/2020|Incomplete|01/04/2020|\n",
    "T5|Read book|Low|02/28/2020|Completed|01/05/2020|02/20/2020\"\"\""
   ]
  },
  {
   "cell_type": "code",
   "execution_count": 2,
   "metadata": {},
   "outputs": [
    {
     "ename": "KeyboardInterrupt",
     "evalue": "",
     "output_type": "error",
     "traceback": [
      "\u001b[0;31m---------------------------------------------------------------------------\u001b[0m",
      "\u001b[0;31mKeyboardInterrupt\u001b[0m                         Traceback (most recent call last)",
      "Cell \u001b[0;32mIn [2], line 2\u001b[0m\n\u001b[1;32m      1\u001b[0m \u001b[39mfrom\u001b[39;00m \u001b[39mio\u001b[39;00m \u001b[39mimport\u001b[39;00m StringIO\n\u001b[0;32m----> 2\u001b[0m \u001b[39mimport\u001b[39;00m \u001b[39mpandas\u001b[39;00m \u001b[39mas\u001b[39;00m \u001b[39mpd\u001b[39;00m\n\u001b[1;32m      3\u001b[0m table \u001b[39m=\u001b[39m pd\u001b[39m.\u001b[39mread_csv(StringIO(csv_output))\n\u001b[1;32m      4\u001b[0m table\n",
      "File \u001b[0;32m/Library/Frameworks/Python.framework/Versions/3.11/lib/python3.11/site-packages/pandas/__init__.py:11\u001b[0m\n\u001b[1;32m      9\u001b[0m \u001b[39mfor\u001b[39;00m _dependency \u001b[39min\u001b[39;00m _hard_dependencies:\n\u001b[1;32m     10\u001b[0m     \u001b[39mtry\u001b[39;00m:\n\u001b[0;32m---> 11\u001b[0m         \u001b[39m__import__\u001b[39;49m(_dependency)\n\u001b[1;32m     12\u001b[0m     \u001b[39mexcept\u001b[39;00m \u001b[39mImportError\u001b[39;00m \u001b[39mas\u001b[39;00m _e:\n\u001b[1;32m     13\u001b[0m         _missing_dependencies\u001b[39m.\u001b[39mappend(\u001b[39mf\u001b[39m\u001b[39m\"\u001b[39m\u001b[39m{\u001b[39;00m_dependency\u001b[39m}\u001b[39;00m\u001b[39m: \u001b[39m\u001b[39m{\u001b[39;00m_e\u001b[39m}\u001b[39;00m\u001b[39m\"\u001b[39m)\n",
      "File \u001b[0;32m/Library/Frameworks/Python.framework/Versions/3.11/lib/python3.11/site-packages/numpy/__init__.py:140\u001b[0m\n\u001b[1;32m    137\u001b[0m \u001b[39m# Allow distributors to run custom init code\u001b[39;00m\n\u001b[1;32m    138\u001b[0m \u001b[39mfrom\u001b[39;00m \u001b[39m.\u001b[39;00m \u001b[39mimport\u001b[39;00m _distributor_init\n\u001b[0;32m--> 140\u001b[0m \u001b[39mfrom\u001b[39;00m \u001b[39m.\u001b[39;00m \u001b[39mimport\u001b[39;00m core\n\u001b[1;32m    141\u001b[0m \u001b[39mfrom\u001b[39;00m \u001b[39m.\u001b[39;00m\u001b[39mcore\u001b[39;00m \u001b[39mimport\u001b[39;00m \u001b[39m*\u001b[39m\n\u001b[1;32m    142\u001b[0m \u001b[39mfrom\u001b[39;00m \u001b[39m.\u001b[39;00m \u001b[39mimport\u001b[39;00m compat\n",
      "File \u001b[0;32m/Library/Frameworks/Python.framework/Versions/3.11/lib/python3.11/site-packages/numpy/core/__init__.py:23\u001b[0m\n\u001b[1;32m     20\u001b[0m         env_added\u001b[39m.\u001b[39mappend(envkey)\n\u001b[1;32m     22\u001b[0m \u001b[39mtry\u001b[39;00m:\n\u001b[0;32m---> 23\u001b[0m     \u001b[39mfrom\u001b[39;00m \u001b[39m.\u001b[39;00m \u001b[39mimport\u001b[39;00m multiarray\n\u001b[1;32m     24\u001b[0m \u001b[39mexcept\u001b[39;00m \u001b[39mImportError\u001b[39;00m \u001b[39mas\u001b[39;00m exc:\n\u001b[1;32m     25\u001b[0m     \u001b[39mimport\u001b[39;00m \u001b[39msys\u001b[39;00m\n",
      "File \u001b[0;32m/Library/Frameworks/Python.framework/Versions/3.11/lib/python3.11/site-packages/numpy/core/multiarray.py:10\u001b[0m\n\u001b[1;32m      1\u001b[0m \u001b[39m\"\"\"\u001b[39;00m\n\u001b[1;32m      2\u001b[0m \u001b[39mCreate the numpy.core.multiarray namespace for backward compatibility. In v1.16\u001b[39;00m\n\u001b[1;32m      3\u001b[0m \u001b[39mthe multiarray and umath c-extension modules were merged into a single\u001b[39;00m\n\u001b[0;32m   (...)\u001b[0m\n\u001b[1;32m      6\u001b[0m \n\u001b[1;32m      7\u001b[0m \u001b[39m\"\"\"\u001b[39;00m\n\u001b[1;32m      9\u001b[0m \u001b[39mimport\u001b[39;00m \u001b[39mfunctools\u001b[39;00m\n\u001b[0;32m---> 10\u001b[0m \u001b[39mfrom\u001b[39;00m \u001b[39m.\u001b[39;00m \u001b[39mimport\u001b[39;00m overrides\n\u001b[1;32m     11\u001b[0m \u001b[39mfrom\u001b[39;00m \u001b[39m.\u001b[39;00m \u001b[39mimport\u001b[39;00m _multiarray_umath\n\u001b[1;32m     12\u001b[0m \u001b[39mfrom\u001b[39;00m \u001b[39m.\u001b[39;00m\u001b[39m_multiarray_umath\u001b[39;00m \u001b[39mimport\u001b[39;00m \u001b[39m*\u001b[39m  \u001b[39m# noqa: F403\u001b[39;00m\n",
      "File \u001b[0;32m/Library/Frameworks/Python.framework/Versions/3.11/lib/python3.11/site-packages/numpy/core/overrides.py:6\u001b[0m\n\u001b[1;32m      3\u001b[0m \u001b[39mimport\u001b[39;00m \u001b[39mfunctools\u001b[39;00m\n\u001b[1;32m      4\u001b[0m \u001b[39mimport\u001b[39;00m \u001b[39mos\u001b[39;00m\n\u001b[0;32m----> 6\u001b[0m \u001b[39mfrom\u001b[39;00m \u001b[39mnumpy\u001b[39;00m\u001b[39m.\u001b[39;00m\u001b[39mcore\u001b[39;00m\u001b[39m.\u001b[39;00m\u001b[39m_multiarray_umath\u001b[39;00m \u001b[39mimport\u001b[39;00m (\n\u001b[1;32m      7\u001b[0m     add_docstring, implement_array_function, _get_implementing_args)\n\u001b[1;32m      8\u001b[0m \u001b[39mfrom\u001b[39;00m \u001b[39mnumpy\u001b[39;00m\u001b[39m.\u001b[39;00m\u001b[39mcompat\u001b[39;00m\u001b[39m.\u001b[39;00m\u001b[39m_inspect\u001b[39;00m \u001b[39mimport\u001b[39;00m getargspec\n\u001b[1;32m     11\u001b[0m ARRAY_FUNCTION_ENABLED \u001b[39m=\u001b[39m \u001b[39mbool\u001b[39m(\n\u001b[1;32m     12\u001b[0m     \u001b[39mint\u001b[39m(os\u001b[39m.\u001b[39menviron\u001b[39m.\u001b[39mget(\u001b[39m'\u001b[39m\u001b[39mNUMPY_EXPERIMENTAL_ARRAY_FUNCTION\u001b[39m\u001b[39m'\u001b[39m, \u001b[39m1\u001b[39m)))\n",
      "\u001b[0;31mKeyboardInterrupt\u001b[0m: "
     ]
    }
   ],
   "source": [
    "from io import StringIO\n",
    "import pandas as pd\n",
    "table = pd.read_csv(StringIO(csv_output), sep=\"|\")\n",
    "table"
   ]
  },
  {
   "cell_type": "code",
   "execution_count": 10,
   "metadata": {},
   "outputs": [],
   "source": [
    "table = table.fillna(\"\")"
   ]
  },
  {
   "cell_type": "code",
   "execution_count": null,
   "metadata": {},
   "outputs": [],
   "source": []
  },
  {
   "cell_type": "code",
   "execution_count": 59,
   "metadata": {},
   "outputs": [],
   "source": [
    "# list columns that have dates in their name\n",
    "date_columns = list(filter(lambda x: \"date\" in x.lower(), table.columns))\n",
    "for column in date_columns:\n",
    "    table[column] = pd.to_datetime(table[column]).dt.strftime(\"%Y-%m-%d\")"
   ]
  },
  {
   "cell_type": "code",
   "execution_count": 60,
   "metadata": {},
   "outputs": [
    {
     "data": {
      "text/html": [
       "<div>\n",
       "<style scoped>\n",
       "    .dataframe tbody tr th:only-of-type {\n",
       "        vertical-align: middle;\n",
       "    }\n",
       "\n",
       "    .dataframe tbody tr th {\n",
       "        vertical-align: top;\n",
       "    }\n",
       "\n",
       "    .dataframe thead th {\n",
       "        text-align: right;\n",
       "    }\n",
       "</style>\n",
       "<table border=\"1\" class=\"dataframe\">\n",
       "  <thead>\n",
       "    <tr style=\"text-align: right;\">\n",
       "      <th></th>\n",
       "      <th>Goal Name</th>\n",
       "      <th>Goal Start Date</th>\n",
       "      <th>Goal End Date</th>\n",
       "      <th>Status</th>\n",
       "      <th>Journey</th>\n",
       "      <th>Notes</th>\n",
       "    </tr>\n",
       "  </thead>\n",
       "  <tbody>\n",
       "    <tr>\n",
       "      <th>0</th>\n",
       "      <td>Learn Spanish</td>\n",
       "      <td>2023-01-01</td>\n",
       "      <td>2023-12-31</td>\n",
       "      <td>In Progress</td>\n",
       "      <td>Planning</td>\n",
       "      <td>NaN</td>\n",
       "    </tr>\n",
       "    <tr>\n",
       "      <th>1</th>\n",
       "      <td>Buy a House</td>\n",
       "      <td>2023-05-01</td>\n",
       "      <td>2023-08-31</td>\n",
       "      <td>On Hold</td>\n",
       "      <td>Research</td>\n",
       "      <td>NaN</td>\n",
       "    </tr>\n",
       "    <tr>\n",
       "      <th>2</th>\n",
       "      <td>Grow a Garden</td>\n",
       "      <td>2023-03-01</td>\n",
       "      <td>2023-07-31</td>\n",
       "      <td>Completed</td>\n",
       "      <td>Implementation</td>\n",
       "      <td>Took a gardening class</td>\n",
       "    </tr>\n",
       "  </tbody>\n",
       "</table>\n",
       "</div>"
      ],
      "text/plain": [
       "       Goal Name Goal Start Date Goal End Date       Status         Journey  \\\n",
       "0  Learn Spanish      2023-01-01    2023-12-31  In Progress        Planning   \n",
       "1    Buy a House      2023-05-01    2023-08-31      On Hold        Research   \n",
       "2  Grow a Garden      2023-03-01    2023-07-31    Completed  Implementation   \n",
       "\n",
       "                    Notes  \n",
       "0                     NaN  \n",
       "1                     NaN  \n",
       "2  Took a gardening class  "
      ]
     },
     "execution_count": 60,
     "metadata": {},
     "output_type": "execute_result"
    }
   ],
   "source": [
    "table"
   ]
  },
  {
   "cell_type": "code",
   "execution_count": 11,
   "metadata": {},
   "outputs": [
    {
     "data": {
      "text/plain": [
       "'[{\"Goal Name\":\"Learn Spanish\",\"Goal Start Date\":\"1\\\\/1\\\\/2023\",\"Goal End Date\":\"12\\\\/31\\\\/2023\",\"Status\":\"In Progress\",\"Journey\":\"Planning\",\"Notes\":\"\"},{\"Goal Name\":\"Buy a House\",\"Goal Start Date\":\"5\\\\/1\\\\/2023\",\"Goal End Date\":\"8\\\\/31\\\\/2023\",\"Status\":\"On Hold\",\"Journey\":\"Research\",\"Notes\":\"\"},{\"Goal Name\":\"Grow a Garden\",\"Goal Start Date\":\"3\\\\/1\\\\/2023\",\"Goal End Date\":\"7\\\\/31\\\\/2023\",\"Status\":\"Completed\",\"Journey\":\"Implementation\",\"Notes\":\"Took a gardening class\"}]'"
      ]
     },
     "execution_count": 11,
     "metadata": {},
     "output_type": "execute_result"
    }
   ],
   "source": [
    "table.to_json(orient=\"records\")"
   ]
  },
  {
   "cell_type": "code",
   "execution_count": 13,
   "metadata": {},
   "outputs": [],
   "source": [
    "csv_output = \"\"\"Title of Research Article,Authors of Research Article,Publication Date,Abstract of Research Article,Main Findings,Keywords,References\n",
    "\"The Impact of Social Media on Student Engagement,\"John Smith,August 12th, 2020,\"This research examines the impact of social media use on student engagement in a higher education setting. The results of the study suggest that social media use has both a positive and a negative effect on student engagement. While students reported feeling more connected to their peers and faculty through social media, they also reported feeling overwhelmed and distracted by the amount of content available. These findings suggest that universities should take a proactive approach to managing social media usage among their students.\",\"The results of the study suggest that social media use has both a positive and a negative effect on student engagement. While students reported feeling more connected to their peers and faculty through social media, they also reported feeling overwhelmed and distracted by the amount of content available.\",Social Media,Student Engagement,Higher Education,https://www.example1.com/article.pdf,https://www.example2.com/video.mp4,https://www.example3.com/image.jpg\n",
    "\"The Role of Technology in Education,\"Jane Doe,May 14th, 2020,\"This research examines the role of technology in education. The study finds that technology is an important tool for student learning, but its use must be managed effectively\"\"\""
   ]
  },
  {
   "cell_type": "code",
   "execution_count": 14,
   "metadata": {},
   "outputs": [
    {
     "ename": "ParserError",
     "evalue": "Error tokenizing data. C error: EOF inside string starting at row 2",
     "output_type": "error",
     "traceback": [
      "\u001b[0;31m---------------------------------------------------------------------------\u001b[0m",
      "\u001b[0;31mParserError\u001b[0m                               Traceback (most recent call last)",
      "Cell \u001b[0;32mIn[14], line 4\u001b[0m\n\u001b[1;32m      1\u001b[0m \u001b[39mimport\u001b[39;00m \u001b[39mpandas\u001b[39;00m \u001b[39mas\u001b[39;00m \u001b[39mpd\u001b[39;00m\n\u001b[1;32m      2\u001b[0m \u001b[39mfrom\u001b[39;00m \u001b[39mio\u001b[39;00m \u001b[39mimport\u001b[39;00m StringIO\n\u001b[0;32m----> 4\u001b[0m pd\u001b[39m.\u001b[39;49mread_csv(StringIO(csv_output))\n",
      "File \u001b[0;32m~/Library/Caches/pypoetry/virtualenvs/butler-28X18N4F-py3.8/lib/python3.8/site-packages/pandas/util/_decorators.py:211\u001b[0m, in \u001b[0;36mdeprecate_kwarg.<locals>._deprecate_kwarg.<locals>.wrapper\u001b[0;34m(*args, **kwargs)\u001b[0m\n\u001b[1;32m    209\u001b[0m     \u001b[39melse\u001b[39;00m:\n\u001b[1;32m    210\u001b[0m         kwargs[new_arg_name] \u001b[39m=\u001b[39m new_arg_value\n\u001b[0;32m--> 211\u001b[0m \u001b[39mreturn\u001b[39;00m func(\u001b[39m*\u001b[39;49margs, \u001b[39m*\u001b[39;49m\u001b[39m*\u001b[39;49mkwargs)\n",
      "File \u001b[0;32m~/Library/Caches/pypoetry/virtualenvs/butler-28X18N4F-py3.8/lib/python3.8/site-packages/pandas/util/_decorators.py:331\u001b[0m, in \u001b[0;36mdeprecate_nonkeyword_arguments.<locals>.decorate.<locals>.wrapper\u001b[0;34m(*args, **kwargs)\u001b[0m\n\u001b[1;32m    325\u001b[0m \u001b[39mif\u001b[39;00m \u001b[39mlen\u001b[39m(args) \u001b[39m>\u001b[39m num_allow_args:\n\u001b[1;32m    326\u001b[0m     warnings\u001b[39m.\u001b[39mwarn(\n\u001b[1;32m    327\u001b[0m         msg\u001b[39m.\u001b[39mformat(arguments\u001b[39m=\u001b[39m_format_argument_list(allow_args)),\n\u001b[1;32m    328\u001b[0m         \u001b[39mFutureWarning\u001b[39;00m,\n\u001b[1;32m    329\u001b[0m         stacklevel\u001b[39m=\u001b[39mfind_stack_level(),\n\u001b[1;32m    330\u001b[0m     )\n\u001b[0;32m--> 331\u001b[0m \u001b[39mreturn\u001b[39;00m func(\u001b[39m*\u001b[39;49margs, \u001b[39m*\u001b[39;49m\u001b[39m*\u001b[39;49mkwargs)\n",
      "File \u001b[0;32m~/Library/Caches/pypoetry/virtualenvs/butler-28X18N4F-py3.8/lib/python3.8/site-packages/pandas/io/parsers/readers.py:950\u001b[0m, in \u001b[0;36mread_csv\u001b[0;34m(filepath_or_buffer, sep, delimiter, header, names, index_col, usecols, squeeze, prefix, mangle_dupe_cols, dtype, engine, converters, true_values, false_values, skipinitialspace, skiprows, skipfooter, nrows, na_values, keep_default_na, na_filter, verbose, skip_blank_lines, parse_dates, infer_datetime_format, keep_date_col, date_parser, dayfirst, cache_dates, iterator, chunksize, compression, thousands, decimal, lineterminator, quotechar, quoting, doublequote, escapechar, comment, encoding, encoding_errors, dialect, error_bad_lines, warn_bad_lines, on_bad_lines, delim_whitespace, low_memory, memory_map, float_precision, storage_options)\u001b[0m\n\u001b[1;32m    935\u001b[0m kwds_defaults \u001b[39m=\u001b[39m _refine_defaults_read(\n\u001b[1;32m    936\u001b[0m     dialect,\n\u001b[1;32m    937\u001b[0m     delimiter,\n\u001b[0;32m   (...)\u001b[0m\n\u001b[1;32m    946\u001b[0m     defaults\u001b[39m=\u001b[39m{\u001b[39m\"\u001b[39m\u001b[39mdelimiter\u001b[39m\u001b[39m\"\u001b[39m: \u001b[39m\"\u001b[39m\u001b[39m,\u001b[39m\u001b[39m\"\u001b[39m},\n\u001b[1;32m    947\u001b[0m )\n\u001b[1;32m    948\u001b[0m kwds\u001b[39m.\u001b[39mupdate(kwds_defaults)\n\u001b[0;32m--> 950\u001b[0m \u001b[39mreturn\u001b[39;00m _read(filepath_or_buffer, kwds)\n",
      "File \u001b[0;32m~/Library/Caches/pypoetry/virtualenvs/butler-28X18N4F-py3.8/lib/python3.8/site-packages/pandas/io/parsers/readers.py:611\u001b[0m, in \u001b[0;36m_read\u001b[0;34m(filepath_or_buffer, kwds)\u001b[0m\n\u001b[1;32m    608\u001b[0m     \u001b[39mreturn\u001b[39;00m parser\n\u001b[1;32m    610\u001b[0m \u001b[39mwith\u001b[39;00m parser:\n\u001b[0;32m--> 611\u001b[0m     \u001b[39mreturn\u001b[39;00m parser\u001b[39m.\u001b[39;49mread(nrows)\n",
      "File \u001b[0;32m~/Library/Caches/pypoetry/virtualenvs/butler-28X18N4F-py3.8/lib/python3.8/site-packages/pandas/io/parsers/readers.py:1778\u001b[0m, in \u001b[0;36mTextFileReader.read\u001b[0;34m(self, nrows)\u001b[0m\n\u001b[1;32m   1771\u001b[0m nrows \u001b[39m=\u001b[39m validate_integer(\u001b[39m\"\u001b[39m\u001b[39mnrows\u001b[39m\u001b[39m\"\u001b[39m, nrows)\n\u001b[1;32m   1772\u001b[0m \u001b[39mtry\u001b[39;00m:\n\u001b[1;32m   1773\u001b[0m     \u001b[39m# error: \"ParserBase\" has no attribute \"read\"\u001b[39;00m\n\u001b[1;32m   1774\u001b[0m     (\n\u001b[1;32m   1775\u001b[0m         index,\n\u001b[1;32m   1776\u001b[0m         columns,\n\u001b[1;32m   1777\u001b[0m         col_dict,\n\u001b[0;32m-> 1778\u001b[0m     ) \u001b[39m=\u001b[39m \u001b[39mself\u001b[39;49m\u001b[39m.\u001b[39;49m_engine\u001b[39m.\u001b[39;49mread(  \u001b[39m# type: ignore[attr-defined]\u001b[39;49;00m\n\u001b[1;32m   1779\u001b[0m         nrows\n\u001b[1;32m   1780\u001b[0m     )\n\u001b[1;32m   1781\u001b[0m \u001b[39mexcept\u001b[39;00m \u001b[39mException\u001b[39;00m:\n\u001b[1;32m   1782\u001b[0m     \u001b[39mself\u001b[39m\u001b[39m.\u001b[39mclose()\n",
      "File \u001b[0;32m~/Library/Caches/pypoetry/virtualenvs/butler-28X18N4F-py3.8/lib/python3.8/site-packages/pandas/io/parsers/c_parser_wrapper.py:230\u001b[0m, in \u001b[0;36mCParserWrapper.read\u001b[0;34m(self, nrows)\u001b[0m\n\u001b[1;32m    228\u001b[0m \u001b[39mtry\u001b[39;00m:\n\u001b[1;32m    229\u001b[0m     \u001b[39mif\u001b[39;00m \u001b[39mself\u001b[39m\u001b[39m.\u001b[39mlow_memory:\n\u001b[0;32m--> 230\u001b[0m         chunks \u001b[39m=\u001b[39m \u001b[39mself\u001b[39;49m\u001b[39m.\u001b[39;49m_reader\u001b[39m.\u001b[39;49mread_low_memory(nrows)\n\u001b[1;32m    231\u001b[0m         \u001b[39m# destructive to chunks\u001b[39;00m\n\u001b[1;32m    232\u001b[0m         data \u001b[39m=\u001b[39m _concatenate_chunks(chunks)\n",
      "File \u001b[0;32m~/Library/Caches/pypoetry/virtualenvs/butler-28X18N4F-py3.8/lib/python3.8/site-packages/pandas/_libs/parsers.pyx:808\u001b[0m, in \u001b[0;36mpandas._libs.parsers.TextReader.read_low_memory\u001b[0;34m()\u001b[0m\n",
      "File \u001b[0;32m~/Library/Caches/pypoetry/virtualenvs/butler-28X18N4F-py3.8/lib/python3.8/site-packages/pandas/_libs/parsers.pyx:866\u001b[0m, in \u001b[0;36mpandas._libs.parsers.TextReader._read_rows\u001b[0;34m()\u001b[0m\n",
      "File \u001b[0;32m~/Library/Caches/pypoetry/virtualenvs/butler-28X18N4F-py3.8/lib/python3.8/site-packages/pandas/_libs/parsers.pyx:852\u001b[0m, in \u001b[0;36mpandas._libs.parsers.TextReader._tokenize_rows\u001b[0;34m()\u001b[0m\n",
      "File \u001b[0;32m~/Library/Caches/pypoetry/virtualenvs/butler-28X18N4F-py3.8/lib/python3.8/site-packages/pandas/_libs/parsers.pyx:1973\u001b[0m, in \u001b[0;36mpandas._libs.parsers.raise_parser_error\u001b[0;34m()\u001b[0m\n",
      "\u001b[0;31mParserError\u001b[0m: Error tokenizing data. C error: EOF inside string starting at row 2"
     ]
    }
   ],
   "source": [
    "import pandas as pd\n",
    "from io import StringIO\n",
    "\n",
    "pd.read_csv(StringIO(csv_output))"
   ]
  },
  {
   "cell_type": "code",
   "execution_count": 15,
   "metadata": {},
   "outputs": [
    {
     "ename": "ValidationError",
     "evalue": "nan is not of type 'string'\n\nFailed validating 'type' in schema['properties']['content']['items'][0]['patternProperties']['.*']:\n    {'type': 'string'}\n\nOn instance['content'][0]['Date']:\n    nan",
     "output_type": "error",
     "traceback": [
      "\u001b[0;31m---------------------------------------------------------------------------\u001b[0m",
      "\u001b[0;31mValidationError\u001b[0m                           Traceback (most recent call last)",
      "Cell \u001b[0;32mIn[15], line 8\u001b[0m\n\u001b[1;32m      6\u001b[0m \u001b[39mwith\u001b[39;00m \u001b[39mopen\u001b[39m(\u001b[39m\"\u001b[39m\u001b[39mtests/test_data/database/responses/schema.json\u001b[39m\u001b[39m\"\u001b[39m) \u001b[39mas\u001b[39;00m f:\n\u001b[1;32m      7\u001b[0m     schema \u001b[39m=\u001b[39m json\u001b[39m.\u001b[39mload(f)\n\u001b[0;32m----> 8\u001b[0m jsonschema\u001b[39m.\u001b[39;49mvalidate(response, schema)\n",
      "File \u001b[0;32m~/Library/Caches/pypoetry/virtualenvs/butler-28X18N4F-py3.8/lib/python3.8/site-packages/jsonschema/validators.py:1121\u001b[0m, in \u001b[0;36mvalidate\u001b[0;34m(instance, schema, cls, *args, **kwargs)\u001b[0m\n\u001b[1;32m   1119\u001b[0m error \u001b[39m=\u001b[39m exceptions\u001b[39m.\u001b[39mbest_match(validator\u001b[39m.\u001b[39miter_errors(instance))\n\u001b[1;32m   1120\u001b[0m \u001b[39mif\u001b[39;00m error \u001b[39mis\u001b[39;00m \u001b[39mnot\u001b[39;00m \u001b[39mNone\u001b[39;00m:\n\u001b[0;32m-> 1121\u001b[0m     \u001b[39mraise\u001b[39;00m error\n",
      "\u001b[0;31mValidationError\u001b[0m: nan is not of type 'string'\n\nFailed validating 'type' in schema['properties']['content']['items'][0]['patternProperties']['.*']:\n    {'type': 'string'}\n\nOn instance['content'][0]['Date']:\n    nan"
     ]
    }
   ],
   "source": [
    "import json\n",
    "import jsonschema\n",
    "with open(\"tests/test_data/database/responses/habit_tracker.json\") as f:\n",
    "    response = json.load(f)\n",
    "\n",
    "with open(\"tests/test_data/database/responses/schema.json\") as f:\n",
    "    schema = json.load(f)\n",
    "jsonschema.validate(response, schema)\n"
   ]
  },
  {
   "cell_type": "code",
   "execution_count": 2,
   "metadata": {},
   "outputs": [],
   "source": [
    "from butler.firebase import pullFromFirebase\n"
   ]
  },
  {
   "cell_type": "code",
   "execution_count": 7,
   "metadata": {},
   "outputs": [
    {
     "data": {
      "text/plain": [
       "{'content': '\"Crispy Fried Chicken,\"\"2 pounds boneless chicken thighs or breasts, cut into small pieces, 2 tablespoons salt, 2 tablespoons black pepper, 2 tablespoons garlic powder, 2 tablespoons onion powder, 2 tablespoons paprika, 1 cup all-purpose flour, 1/2 cup cornstarch, 2 cups vegetable oil,\"\"In a large bowl, combine the chicken pieces, salt, pepper, garlic powder, onion powder and paprika. Toss until all the chicken pieces are evenly coated. In a separate bowl, mix together the flour and cornstarch. Dip the chicken pieces into the flour mixture and coat them evenly. Heat the oil in a large skillet on medium-high heat. Add the chicken pieces to the skillet and cook for about 10 minutes, or until golden brown and crispy. Remove the chicken from the skillet and serve,\"4,15 minutes,25 minutes,Medium,Per Serving: Calories: 556; Fat: 35.4g; Carbohydrates: 24.6g; Protein: 30.2g,Southern,Main Dish',\n",
       " 'details': \"\\n\\nTitle: Delicious Recipes for Every Occasion\\nDescription: This recipe book is filled with flavorful and easy-to-follow recipes for breakfast, lunch, dinner, and desserts. Whether you're looking for a quick dinner or a gourmet dessert, you'll find something to satisfy everyone's appetite. \\nEmoji: 🍽️\",\n",
       " 'options': ' Easy, Medium, Hard, Very Hard, Extremely Hard\\n\\n        Cuisine or Type of Dish: Italian, Mexican, Chinese, Japanese, Thai\\n\\n        Category or Course: Main Dish, Appetizer, Dessert, Soup, Salad',\n",
       " 'property_types': '2. Ingredients: Text\\n        3. Instructions: Text\\n        4. Serving Size: Number\\n        5. Prep Time: Date\\n        6. Cook Time: Date\\n        7. Difficulty Level: Select, Multi-select\\n        8. Nutrition Information: Text\\n        9. Cuisine or Type of Dish: Select, Multi-select\\n        10. Category or Course: Select, Multi-select',\n",
       " 'result': '\\n1. Recipe Name\\n2. Ingredients\\n3. Instructions\\n4. Serving Size\\n5. Prep Time\\n6. Cook Time \\n7. Difficulty Level\\n8. Nutrition Information\\n9. Cuisine or Type of Dish\\n10. Category or Course',\n",
       " 'statement': 'I want to make a recipe book',\n",
       " 'types': 'Title, Text, Number, Select, Multi-select, Status, Date, Person, Files & media, Checkbox, URL, Email, Phone'}"
      ]
     },
     "execution_count": 7,
     "metadata": {},
     "output_type": "execute_result"
    }
   ],
   "source": [
    "response = pullFromFirebase(\"database/openai_responses/-NNMwS2WKK2f_Lt4-cqy\")\n",
    "response"
   ]
  },
  {
   "cell_type": "code",
   "execution_count": 5,
   "metadata": {},
   "outputs": [
    {
     "name": "stdout",
     "output_type": "stream",
     "text": [
      "None\n"
     ]
    }
   ],
   "source": []
  },
  {
   "cell_type": "code",
   "execution_count": null,
   "metadata": {},
   "outputs": [],
   "source": []
  }
 ],
 "metadata": {
  "kernelspec": {
   "display_name": "Python 3",
   "language": "python",
   "name": "python3"
  },
  "language_info": {
   "codemirror_mode": {
    "name": "ipython",
    "version": 3
   },
   "file_extension": ".py",
   "mimetype": "text/x-python",
   "name": "python",
   "nbconvert_exporter": "python",
   "pygments_lexer": "ipython3",
   "version": "3.11.1"
  },
  "orig_nbformat": 4,
  "vscode": {
   "interpreter": {
    "hash": "aee8b7b246df8f9039afb4144a1f6fd8d2ca17a180786b69acc140d282b71a49"
   }
  }
 },
 "nbformat": 4,
 "nbformat_minor": 2
}
